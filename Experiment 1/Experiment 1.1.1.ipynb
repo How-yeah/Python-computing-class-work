{
 "metadata": {
  "language_info": {
   "codemirror_mode": {
    "name": "ipython",
    "version": 3
   },
   "file_extension": ".py",
   "mimetype": "text/x-python",
   "name": "python",
   "nbconvert_exporter": "python",
   "pygments_lexer": "ipython3",
   "version": "3.9.4"
  },
  "orig_nbformat": 2,
  "kernelspec": {
   "name": "python394jvsc74a57bd071590e65fb6d1e5cfbd8335155e1fc2bb4b58340a2f44054cf6c8f5cbbe7cc49",
   "display_name": "Python 3.9.4 64-bit"
  }
 },
 "nbformat": 4,
 "nbformat_minor": 2,
 "cells": [
  {
   "cell_type": "code",
   "execution_count": 1,
   "metadata": {},
   "outputs": [
    {
     "output_type": "execute_result",
     "data": {
      "text/plain": [
       "'3.9.4 (tags/v3.9.4:1f2e308, Apr  6 2021, 13:40:21) [MSC v.1928 64 bit (AMD64)]'"
      ]
     },
     "metadata": {},
     "execution_count": 1
    }
   ],
   "source": [
    "import sys\n",
    "sys.version"
   ]
  },
  {
   "cell_type": "code",
   "execution_count": 2,
   "metadata": {},
   "outputs": [
    {
     "output_type": "execute_result",
     "data": {
      "text/plain": [
       "'3.9'"
      ]
     },
     "metadata": {},
     "execution_count": 2
    }
   ],
   "source": [
    "sys.winver"
   ]
  },
  {
   "cell_type": "code",
   "execution_count": 3,
   "metadata": {},
   "outputs": [
    {
     "output_type": "execute_result",
     "data": {
      "text/plain": [
       "sys.version_info(major=3, minor=9, micro=4, releaselevel='final', serial=0)"
      ]
     },
     "metadata": {},
     "execution_count": 3
    }
   ],
   "source": [
    "sys.version_info"
   ]
  },
  {
   "cell_type": "code",
   "execution_count": 4,
   "metadata": {},
   "outputs": [
    {
     "output_type": "execute_result",
     "data": {
      "text/plain": [
       "['In',\n",
       " 'Out',\n",
       " '_',\n",
       " '_1',\n",
       " '_2',\n",
       " '_3',\n",
       " '__',\n",
       " '___',\n",
       " '__builtin__',\n",
       " '__builtins__',\n",
       " '__doc__',\n",
       " '__loader__',\n",
       " '__name__',\n",
       " '__package__',\n",
       " '__spec__',\n",
       " '_dh',\n",
       " '_i',\n",
       " '_i1',\n",
       " '_i2',\n",
       " '_i3',\n",
       " '_i4',\n",
       " '_ih',\n",
       " '_ii',\n",
       " '_iii',\n",
       " '_oh',\n",
       " '_rwho_ls',\n",
       " 'exit',\n",
       " 'get_ipython',\n",
       " 'os',\n",
       " 'quit',\n",
       " 'sys']"
      ]
     },
     "metadata": {},
     "execution_count": 4
    }
   ],
   "source": [
    "dir()"
   ]
  },
  {
   "cell_type": "code",
   "execution_count": 5,
   "metadata": {},
   "outputs": [
    {
     "output_type": "execute_result",
     "data": {
      "text/plain": [
       "['__abs__',\n",
       " '__add__',\n",
       " '__and__',\n",
       " '__bool__',\n",
       " '__ceil__',\n",
       " '__class__',\n",
       " '__delattr__',\n",
       " '__dir__',\n",
       " '__divmod__',\n",
       " '__doc__',\n",
       " '__eq__',\n",
       " '__float__',\n",
       " '__floor__',\n",
       " '__floordiv__',\n",
       " '__format__',\n",
       " '__ge__',\n",
       " '__getattribute__',\n",
       " '__getnewargs__',\n",
       " '__gt__',\n",
       " '__hash__',\n",
       " '__index__',\n",
       " '__init__',\n",
       " '__init_subclass__',\n",
       " '__int__',\n",
       " '__invert__',\n",
       " '__le__',\n",
       " '__lshift__',\n",
       " '__lt__',\n",
       " '__mod__',\n",
       " '__mul__',\n",
       " '__ne__',\n",
       " '__neg__',\n",
       " '__new__',\n",
       " '__or__',\n",
       " '__pos__',\n",
       " '__pow__',\n",
       " '__radd__',\n",
       " '__rand__',\n",
       " '__rdivmod__',\n",
       " '__reduce__',\n",
       " '__reduce_ex__',\n",
       " '__repr__',\n",
       " '__rfloordiv__',\n",
       " '__rlshift__',\n",
       " '__rmod__',\n",
       " '__rmul__',\n",
       " '__ror__',\n",
       " '__round__',\n",
       " '__rpow__',\n",
       " '__rrshift__',\n",
       " '__rshift__',\n",
       " '__rsub__',\n",
       " '__rtruediv__',\n",
       " '__rxor__',\n",
       " '__setattr__',\n",
       " '__sizeof__',\n",
       " '__str__',\n",
       " '__sub__',\n",
       " '__subclasshook__',\n",
       " '__truediv__',\n",
       " '__trunc__',\n",
       " '__xor__',\n",
       " 'as_integer_ratio',\n",
       " 'bit_length',\n",
       " 'conjugate',\n",
       " 'denominator',\n",
       " 'from_bytes',\n",
       " 'imag',\n",
       " 'numerator',\n",
       " 'real',\n",
       " 'to_bytes']"
      ]
     },
     "metadata": {},
     "execution_count": 5
    }
   ],
   "source": [
    "dir(int)"
   ]
  },
  {
   "cell_type": "code",
   "execution_count": 6,
   "metadata": {},
   "outputs": [
    {
     "output_type": "execute_result",
     "data": {
      "text/plain": [
       "['__add__',\n",
       " '__class__',\n",
       " '__contains__',\n",
       " '__delattr__',\n",
       " '__dir__',\n",
       " '__doc__',\n",
       " '__eq__',\n",
       " '__format__',\n",
       " '__ge__',\n",
       " '__getattribute__',\n",
       " '__getitem__',\n",
       " '__getnewargs__',\n",
       " '__gt__',\n",
       " '__hash__',\n",
       " '__init__',\n",
       " '__init_subclass__',\n",
       " '__iter__',\n",
       " '__le__',\n",
       " '__len__',\n",
       " '__lt__',\n",
       " '__mod__',\n",
       " '__mul__',\n",
       " '__ne__',\n",
       " '__new__',\n",
       " '__reduce__',\n",
       " '__reduce_ex__',\n",
       " '__repr__',\n",
       " '__rmod__',\n",
       " '__rmul__',\n",
       " '__setattr__',\n",
       " '__sizeof__',\n",
       " '__str__',\n",
       " '__subclasshook__',\n",
       " 'capitalize',\n",
       " 'casefold',\n",
       " 'center',\n",
       " 'count',\n",
       " 'encode',\n",
       " 'endswith',\n",
       " 'expandtabs',\n",
       " 'find',\n",
       " 'format',\n",
       " 'format_map',\n",
       " 'index',\n",
       " 'isalnum',\n",
       " 'isalpha',\n",
       " 'isascii',\n",
       " 'isdecimal',\n",
       " 'isdigit',\n",
       " 'isidentifier',\n",
       " 'islower',\n",
       " 'isnumeric',\n",
       " 'isprintable',\n",
       " 'isspace',\n",
       " 'istitle',\n",
       " 'isupper',\n",
       " 'join',\n",
       " 'ljust',\n",
       " 'lower',\n",
       " 'lstrip',\n",
       " 'maketrans',\n",
       " 'partition',\n",
       " 'removeprefix',\n",
       " 'removesuffix',\n",
       " 'replace',\n",
       " 'rfind',\n",
       " 'rindex',\n",
       " 'rjust',\n",
       " 'rpartition',\n",
       " 'rsplit',\n",
       " 'rstrip',\n",
       " 'split',\n",
       " 'splitlines',\n",
       " 'startswith',\n",
       " 'strip',\n",
       " 'swapcase',\n",
       " 'title',\n",
       " 'translate',\n",
       " 'upper',\n",
       " 'zfill']"
      ]
     },
     "metadata": {},
     "execution_count": 6
    }
   ],
   "source": [
    "dir(str)"
   ]
  },
  {
   "cell_type": "code",
   "execution_count": 7,
   "metadata": {},
   "outputs": [
    {
     "output_type": "execute_result",
     "data": {
      "text/plain": [
       "505050505050505050494949494949494949495"
      ]
     },
     "metadata": {},
     "execution_count": 7
    }
   ],
   "source": [
    "15151515151515151515*33333333333333333333"
   ]
  },
  {
   "cell_type": "code",
   "execution_count": 8,
   "metadata": {},
   "outputs": [
    {
     "output_type": "execute_result",
     "data": {
      "text/plain": [
       "71269545849092926812852824849453593517619659126303589641841118788860733038424163603008217224544267997229786658864808359130571534635968755502442916631963578646011287390184510661014842636789633392430901675643100460986606850390363098464951144886717941244189192935630075230730354637033262085391518240934338701419133209808704138463531149170218954731615486571806041510530436892946366583640741849245634545031239939551280951802003195665701991640062283121685896403599188239457674891550149908529947348763542631656051173864873748529326766083745328376255079233888729971780020746898078154546930187690631835019970456606482305468720588208589194492004643322535745424275206804970261458920272280294590914996934316899469248453862458314551245664833668224027344525641791809349712604292195754141970792589733100109354882912996902176147361184075033576226463846633898779254441951198229214775144783833656978695701415764124647754099676549314090456585848383639866439275659273573343191557105179371515257205978452893635126768783896936598372736736550805543836767354515941235735488833170901094132267077769807090589931730064038662273340407507098816579568603277514638412010999305007056420659339359750149505357391208461931238304582239422086308069642427403384996875379513323997501019580414856845825812957016858426625376906927402827395621265906354296374963315513022165540943900153269734584947028452052211566949327413637239633736973974589154017373673259689458801785894686930539663395037697919060252477948009331094819507146512488441792996698870947424019850217096567793622604489290029286643411430145894692211982420410806310683518828522493039643941581042448683767616408296702195253321291842590157505365693656621352122736463093755225009643653156194317504325658130241764475776613593589897230096613403814686752786554376389650691316441081314894887477413473960971114773335835619589463267362198266539943836704465788065138919449378424759861995188586749804158445172195844113319095093996626894757085326916327099601684528239853693821558240287694927329744860748969960086928171509664309122040243947578255374669063181873111531898705153765725764147433793461411293360076771593048960061223879150987000803744986785387427976219784524696517818616507295676138266728586814640539250561737625289669110216827245764215652313398040819475196927636083100422296996995124734924117713338743158961961649604968394427161172861467089218242670511922641901082955710254978565481527546306912187022567530216384767346034926161362965611324041872808333693802515242303355997518178952644880498622846041058195886369555948651570870427636248750263976137053607554198035452289325117370880984992852299461941396175865316877267418525378976607557850209672142032867275895378468540532545569034188880294546725336473778470559104866837307549747820572003041434983339609410476291268454105814094579591123769401322126350504495604480251401571165178173331641433113370270555064057636862919748370886171391568756104542661575837408148530025229762051053742510028594371295934311498396727751423629840066819789263951487298223279979910674247785974322988686076993110565584067932469567376697672965267293945348553766178871918402549816115947208359015653783576837744922816924973235200897953201569076908514453107436647666876501897484553271318686326494405442292509400676005606774877901885195812078505009029708504911601041025108803484333390741308262791913318491723438133818762151950229753604719744477922282464861924453020375872293040009912841072766824208259651528229820773039215566263196398587801230064511624251878072798074981973435326546073619843977112678140200472777656154587603447091261409548655550846819344045736939221141179372760724753156346361170588967915450724109976767126009075485204838912100079717178913869371915929721088422252458412776802880031332691794764039039053993661035371620105500525040603648720516822416054656736464379878194462869447618759632362361649768241812436434359785015915475454981836972030552003264543726179909470033354799888909544206632205599692150149550997221417455796000314344817363922727042086489809994854918541992412638652500681846359437394379060036780680174333441369340485666462609233077182664038656167621839382453420506853677091991469827569802365671820458644593041482375957633282843914706965728270388366943028765791213777086584307341935475045952328409586314981349902864802898524521673096500770464753028568008680357244529195348538478840126799667291951883347140236940630674613083855235504618097896988672653157173180290700677225348749614581338228746173339899238634917538180596143391705308132872180805701198347795494210904873852486915986300083561773852368493255960208919941028225822269840135680578614653835446684042395373077595655299606186238061278205159142411933522194696867798516143598557765427779417996661725912170721175784640488095297660747278190178842983802624807706308660626946189788201400564199604997304498344613474242607306071933447794523148374661921062152291567020777354896264882588943111647451600211623180809065875623192177725809272397208593760003213541889947883666547920037596167686513795185829370341347028547742897332976275122865453286291010651525286302876421663110265656053021984951667600393362024077442803624556348018555438823472082931964828090163931237780906052994826383812170843840507324544953784081115283443230391731667447469120059184990764201071391408365405617748940365346752126978500770130953603281386606308642740380779708206812486413507887437337269782896960093721461118105714289025355608493159359762569540384487620895708435791949435044773925328100853171371527524902260245345156243170677462277789124104312327350921091380021135656929436024508844306694959727118681690902433571455780199917122050706262127398115207719787081641270489577948841677885830183677811429690452754335001752105913244057544054741667455609487548559309248866598152343085642833511696824935361985110858441050215751413694415292757223124970390047447337882726150039676882485828237069908344640223495783418155285505224266211955630152888084299695305822201779613030568119244474933876879953438257042441684346193294125728297697607884064386997057823987237736654787675913544713890857780372598373175751700975679681412703516460162145775073135436090964252309104351465228131005070006993828063482524303430443088921003470993204342635928472123904456923699471987211883376831952482271777287574805683409911089263196148221165786101664323748835860838502989897359337947331131232013619843801812316293763726090120833036261270321415445133038616997635957537266922702489711590542177905602258645185069096514355206551359667151240924429385849786292834840621005963861534861945574949764689624802796720541578755848229834148463127693251930443316708875989786163824509166744614721940791141302960424719489607663616"
      ]
     },
     "metadata": {},
     "execution_count": 8
    }
   ],
   "source": [
    "2016**2016"
   ]
  },
  {
   "cell_type": "code",
   "execution_count": 9,
   "metadata": {},
   "outputs": [
    {
     "output_type": "execute_result",
     "data": {
      "text/plain": [
       "26"
      ]
     },
     "metadata": {},
     "execution_count": 9
    }
   ],
   "source": [
    "23+3"
   ]
  },
  {
   "cell_type": "code",
   "execution_count": 10,
   "metadata": {},
   "outputs": [
    {
     "output_type": "execute_result",
     "data": {
      "text/plain": [
       "True"
      ]
     },
     "metadata": {},
     "execution_count": 10
    }
   ],
   "source": [
    "23>3"
   ]
  },
  {
   "cell_type": "code",
   "execution_count": 11,
   "metadata": {},
   "outputs": [
    {
     "output_type": "execute_result",
     "data": {
      "text/plain": [
       "'233'"
      ]
     },
     "metadata": {},
     "execution_count": 11
    }
   ],
   "source": [
    "'23'+'3'"
   ]
  },
  {
   "cell_type": "code",
   "execution_count": 12,
   "metadata": {},
   "outputs": [
    {
     "output_type": "execute_result",
     "data": {
      "text/plain": [
       "7.666666666666667"
      ]
     },
     "metadata": {},
     "execution_count": 12
    }
   ],
   "source": [
    "23/3"
   ]
  },
  {
   "cell_type": "code",
   "execution_count": 13,
   "metadata": {},
   "outputs": [
    {
     "output_type": "execute_result",
     "data": {
      "text/plain": [
       "7"
      ]
     },
     "metadata": {},
     "execution_count": 13
    }
   ],
   "source": [
    "23//3"
   ]
  },
  {
   "cell_type": "code",
   "execution_count": 14,
   "metadata": {},
   "outputs": [
    {
     "output_type": "execute_result",
     "data": {
      "text/plain": [
       "2"
      ]
     },
     "metadata": {},
     "execution_count": 14
    }
   ],
   "source": [
    "23%3"
   ]
  },
  {
   "cell_type": "code",
   "execution_count": 15,
   "metadata": {},
   "outputs": [
    {
     "output_type": "execute_result",
     "data": {
      "text/plain": [
       "12167"
      ]
     },
     "metadata": {},
     "execution_count": 15
    }
   ],
   "source": [
    "23**3"
   ]
  },
  {
   "cell_type": "code",
   "execution_count": 16,
   "metadata": {},
   "outputs": [
    {
     "output_type": "execute_result",
     "data": {
      "text/plain": [
       "47.5"
      ]
     },
     "metadata": {},
     "execution_count": 16
    }
   ],
   "source": [
    "23+24.5"
   ]
  },
  {
   "cell_type": "code",
   "execution_count": 17,
   "metadata": {},
   "outputs": [
    {
     "output_type": "error",
     "ename": "TypeError",
     "evalue": "unsupported operand type(s) for +: 'int' and 'str'",
     "traceback": [
      "\u001b[1;31m---------------------------------------------------------------------------\u001b[0m",
      "\u001b[1;31mTypeError\u001b[0m                                 Traceback (most recent call last)",
      "\u001b[1;32m<ipython-input-17-00d2734718e3>\u001b[0m in \u001b[0;36m<module>\u001b[1;34m\u001b[0m\n\u001b[1;32m----> 1\u001b[1;33m \u001b[1;36m23\u001b[0m\u001b[1;33m+\u001b[0m\u001b[1;34m'3'\u001b[0m\u001b[1;33m\u001b[0m\u001b[1;33m\u001b[0m\u001b[0m\n\u001b[0m",
      "\u001b[1;31mTypeError\u001b[0m: unsupported operand type(s) for +: 'int' and 'str'"
     ]
    }
   ],
   "source": [
    "23+'3'"
   ]
  },
  {
   "cell_type": "code",
   "execution_count": 18,
   "metadata": {},
   "outputs": [
    {
     "output_type": "execute_result",
     "data": {
      "text/plain": [
       "26"
      ]
     },
     "metadata": {},
     "execution_count": 18
    }
   ],
   "source": [
    "23+int('3')"
   ]
  },
  {
   "cell_type": "code",
   "execution_count": 19,
   "metadata": {},
   "outputs": [
    {
     "output_type": "execute_result",
     "data": {
      "text/plain": [
       "'hello123'"
      ]
     },
     "metadata": {},
     "execution_count": 19
    }
   ],
   "source": [
    "'hello'+str(\"123\")"
   ]
  },
  {
   "cell_type": "code",
   "execution_count": 20,
   "metadata": {},
   "outputs": [
    {
     "output_type": "execute_result",
     "data": {
      "text/plain": [
       "7"
      ]
     },
     "metadata": {},
     "execution_count": 20
    }
   ],
   "source": [
    "int(23/3)"
   ]
  },
  {
   "cell_type": "code",
   "execution_count": 21,
   "metadata": {},
   "outputs": [
    {
     "output_type": "execute_result",
     "data": {
      "text/plain": [
       "7.67"
      ]
     },
     "metadata": {},
     "execution_count": 21
    }
   ],
   "source": [
    "round(23/3,2)"
   ]
  },
  {
   "cell_type": "code",
   "execution_count": 22,
   "metadata": {},
   "outputs": [
    {
     "output_type": "execute_result",
     "data": {
      "text/plain": [
       "8"
      ]
     },
     "metadata": {},
     "execution_count": 22
    }
   ],
   "source": [
    "round(23/3)"
   ]
  },
  {
   "cell_type": "code",
   "execution_count": 23,
   "metadata": {},
   "outputs": [
    {
     "output_type": "execute_result",
     "data": {
      "text/plain": [
       "True"
      ]
     },
     "metadata": {},
     "execution_count": 23
    }
   ],
   "source": [
    "0<23<100"
   ]
  },
  {
   "cell_type": "code",
   "execution_count": 24,
   "metadata": {},
   "outputs": [
    {
     "output_type": "execute_result",
     "data": {
      "text/plain": [
       "'r'"
      ]
     },
     "metadata": {},
     "execution_count": 24
    }
   ],
   "source": [
    "s1='programming'\n",
    "s2='language'\n",
    "s1[1]"
   ]
  },
  {
   "cell_type": "code",
   "execution_count": 25,
   "metadata": {},
   "outputs": [
    {
     "output_type": "execute_result",
     "data": {
      "text/plain": [
       "'prog'"
      ]
     },
     "metadata": {},
     "execution_count": 25
    }
   ],
   "source": [
    "s1[:4]"
   ]
  },
  {
   "cell_type": "code",
   "execution_count": 26,
   "metadata": {},
   "outputs": [
    {
     "output_type": "execute_result",
     "data": {
      "text/plain": [
       "'pan'"
      ]
     },
     "metadata": {},
     "execution_count": 26
    }
   ],
   "source": [
    "s1[0]+s2[1:3]"
   ]
  },
  {
   "cell_type": "code",
   "execution_count": 27,
   "metadata": {},
   "outputs": [
    {
     "output_type": "execute_result",
     "data": {
      "text/plain": [
       "'Programming LANGUAGE'"
      ]
     },
     "metadata": {},
     "execution_count": 27
    }
   ],
   "source": [
    "s1.capitalize()+' '+s2.upper()"
   ]
  },
  {
   "cell_type": "code",
   "execution_count": 28,
   "metadata": {},
   "outputs": [
    {
     "output_type": "execute_result",
     "data": {
      "text/plain": [
       "2"
      ]
     },
     "metadata": {},
     "execution_count": 28
    }
   ],
   "source": [
    "s1.count('r')"
   ]
  },
  {
   "cell_type": "code",
   "execution_count": 29,
   "metadata": {},
   "outputs": [
    {
     "output_type": "execute_result",
     "data": {
      "text/plain": [
       "1"
      ]
     },
     "metadata": {},
     "execution_count": 29
    }
   ],
   "source": [
    "s1.count('p')"
   ]
  },
  {
   "cell_type": "code",
   "execution_count": 30,
   "metadata": {},
   "outputs": [
    {
     "output_type": "execute_result",
     "data": {
      "text/plain": [
       "'programming'"
      ]
     },
     "metadata": {},
     "execution_count": 30
    }
   ],
   "source": [
    "s1"
   ]
  },
  {
   "cell_type": "code",
   "execution_count": 31,
   "metadata": {},
   "outputs": [
    {
     "output_type": "execute_result",
     "data": {
      "text/plain": [
       "7"
      ]
     },
     "metadata": {},
     "execution_count": 31
    }
   ],
   "source": [
    "s1.count('r')+s1.find('r')+s1.rfind('r')"
   ]
  },
  {
   "cell_type": "code",
   "execution_count": 32,
   "metadata": {},
   "outputs": [
    {
     "output_type": "execute_result",
     "data": {
      "text/plain": [
       "'la la la '"
      ]
     },
     "metadata": {},
     "execution_count": 32
    }
   ],
   "source": [
    "s3=s2.join('--')\n",
    "s4='-'.join(s2)\n",
    "L1=s4.split()\n",
    "3*(s2[:2]+' ')"
   ]
  },
  {
   "cell_type": "code",
   "execution_count": 33,
   "metadata": {},
   "outputs": [
    {
     "output_type": "execute_result",
     "data": {
      "text/plain": [
       "'Python  language'"
      ]
     },
     "metadata": {},
     "execution_count": 33
    }
   ],
   "source": [
    "\"Python\"+s2.rjust(10)"
   ]
  },
  {
   "cell_type": "code",
   "execution_count": 34,
   "metadata": {},
   "outputs": [
    {
     "output_type": "stream",
     "name": "stdout",
     "text": [
      "\n",
      "Welcome to Python 3.9's help utility!\n",
      "\n",
      "If this is your first time using Python, you should definitely check out\n",
      "the tutorial on the Internet at https://docs.python.org/3.9/tutorial/.\n",
      "\n",
      "Enter the name of any module, keyword, or topic to get help on writing\n",
      "Python programs and using Python modules.  To quit this help utility and\n",
      "return to the interpreter, just type \"quit\".\n",
      "\n",
      "To get a list of available modules, keywords, symbols, or topics, type\n",
      "\"modules\", \"keywords\", \"symbols\", or \"topics\".  Each module also comes\n",
      "with a one-line summary of what it does; to list the modules whose name\n",
      "or summary contain a given string such as \"spam\", type \"modules spam\".\n",
      "\n",
      "\n",
      "You are now leaving help and returning to the Python interpreter.\n",
      "If you want to ask for help on a particular object directly from the\n",
      "interpreter, you can type \"help(object)\".  Executing \"help('string')\"\n",
      "has the same effect as typing a particular string at the help> prompt.\n"
     ]
    }
   ],
   "source": [
    "help()"
   ]
  },
  {
   "cell_type": "code",
   "execution_count": 35,
   "metadata": {},
   "outputs": [
    {
     "output_type": "stream",
     "name": "stdout",
     "text": [
      "Help on class int in module builtins:\n\nclass int(object)\n |  int([x]) -> integer\n |  int(x, base=10) -> integer\n |  \n |  Convert a number or string to an integer, or return 0 if no arguments\n |  are given.  If x is a number, return x.__int__().  For floating point\n |  numbers, this truncates towards zero.\n |  \n |  If x is not a number or if base is given, then x must be a string,\n |  bytes, or bytearray instance representing an integer literal in the\n |  given base.  The literal can be preceded by '+' or '-' and be surrounded\n |  by whitespace.  The base defaults to 10.  Valid bases are 0 and 2-36.\n |  Base 0 means to interpret the base from the string as an integer literal.\n |  >>> int('0b100', base=0)\n |  4\n |  \n |  Built-in subclasses:\n |      bool\n |  \n |  Methods defined here:\n |  \n |  __abs__(self, /)\n |      abs(self)\n |  \n |  __add__(self, value, /)\n |      Return self+value.\n |  \n |  __and__(self, value, /)\n |      Return self&value.\n |  \n |  __bool__(self, /)\n |      self != 0\n |  \n |  __ceil__(...)\n |      Ceiling of an Integral returns itself.\n |  \n |  __divmod__(self, value, /)\n |      Return divmod(self, value).\n |  \n |  __eq__(self, value, /)\n |      Return self==value.\n |  \n |  __float__(self, /)\n |      float(self)\n |  \n |  __floor__(...)\n |      Flooring an Integral returns itself.\n |  \n |  __floordiv__(self, value, /)\n |      Return self//value.\n |  \n |  __format__(self, format_spec, /)\n |      Default object formatter.\n |  \n |  __ge__(self, value, /)\n |      Return self>=value.\n |  \n |  __getattribute__(self, name, /)\n |      Return getattr(self, name).\n |  \n |  __getnewargs__(self, /)\n |  \n |  __gt__(self, value, /)\n |      Return self>value.\n |  \n |  __hash__(self, /)\n |      Return hash(self).\n |  \n |  __index__(self, /)\n |      Return self converted to an integer, if self is suitable for use as an index into a list.\n |  \n |  __int__(self, /)\n |      int(self)\n |  \n |  __invert__(self, /)\n |      ~self\n |  \n |  __le__(self, value, /)\n |      Return self<=value.\n |  \n |  __lshift__(self, value, /)\n |      Return self<<value.\n |  \n |  __lt__(self, value, /)\n |      Return self<value.\n |  \n |  __mod__(self, value, /)\n |      Return self%value.\n |  \n |  __mul__(self, value, /)\n |      Return self*value.\n |  \n |  __ne__(self, value, /)\n |      Return self!=value.\n |  \n |  __neg__(self, /)\n |      -self\n |  \n |  __or__(self, value, /)\n |      Return self|value.\n |  \n |  __pos__(self, /)\n |      +self\n |  \n |  __pow__(self, value, mod=None, /)\n |      Return pow(self, value, mod).\n |  \n |  __radd__(self, value, /)\n |      Return value+self.\n |  \n |  __rand__(self, value, /)\n |      Return value&self.\n |  \n |  __rdivmod__(self, value, /)\n |      Return divmod(value, self).\n |  \n |  __repr__(self, /)\n |      Return repr(self).\n |  \n |  __rfloordiv__(self, value, /)\n |      Return value//self.\n |  \n |  __rlshift__(self, value, /)\n |      Return value<<self.\n |  \n |  __rmod__(self, value, /)\n |      Return value%self.\n |  \n |  __rmul__(self, value, /)\n |      Return value*self.\n |  \n |  __ror__(self, value, /)\n |      Return value|self.\n |  \n |  __round__(...)\n |      Rounding an Integral returns itself.\n |      Rounding with an ndigits argument also returns an integer.\n |  \n |  __rpow__(self, value, mod=None, /)\n |      Return pow(value, self, mod).\n |  \n |  __rrshift__(self, value, /)\n |      Return value>>self.\n |  \n |  __rshift__(self, value, /)\n |      Return self>>value.\n |  \n |  __rsub__(self, value, /)\n |      Return value-self.\n |  \n |  __rtruediv__(self, value, /)\n |      Return value/self.\n |  \n |  __rxor__(self, value, /)\n |      Return value^self.\n |  \n |  __sizeof__(self, /)\n |      Returns size in memory, in bytes.\n |  \n |  __sub__(self, value, /)\n |      Return self-value.\n |  \n |  __truediv__(self, value, /)\n |      Return self/value.\n |  \n |  __trunc__(...)\n |      Truncating an Integral returns itself.\n |  \n |  __xor__(self, value, /)\n |      Return self^value.\n |  \n |  as_integer_ratio(self, /)\n |      Return integer ratio.\n |      \n |      Return a pair of integers, whose ratio is exactly equal to the original int\n |      and with a positive denominator.\n |      \n |      >>> (10).as_integer_ratio()\n |      (10, 1)\n |      >>> (-10).as_integer_ratio()\n |      (-10, 1)\n |      >>> (0).as_integer_ratio()\n |      (0, 1)\n |  \n |  bit_length(self, /)\n |      Number of bits necessary to represent self in binary.\n |      \n |      >>> bin(37)\n |      '0b100101'\n |      >>> (37).bit_length()\n |      6\n |  \n |  conjugate(...)\n |      Returns self, the complex conjugate of any int.\n |  \n |  to_bytes(self, /, length, byteorder, *, signed=False)\n |      Return an array of bytes representing an integer.\n |      \n |      length\n |        Length of bytes object to use.  An OverflowError is raised if the\n |        integer is not representable with the given number of bytes.\n |      byteorder\n |        The byte order used to represent the integer.  If byteorder is 'big',\n |        the most significant byte is at the beginning of the byte array.  If\n |        byteorder is 'little', the most significant byte is at the end of the\n |        byte array.  To request the native byte order of the host system, use\n |        `sys.byteorder' as the byte order value.\n |      signed\n |        Determines whether two's complement is used to represent the integer.\n |        If signed is False and a negative integer is given, an OverflowError\n |        is raised.\n |  \n |  ----------------------------------------------------------------------\n |  Class methods defined here:\n |  \n |  from_bytes(bytes, byteorder, *, signed=False) from builtins.type\n |      Return the integer represented by the given array of bytes.\n |      \n |      bytes\n |        Holds the array of bytes to convert.  The argument must either\n |        support the buffer protocol or be an iterable object producing bytes.\n |        Bytes and bytearray are examples of built-in objects that support the\n |        buffer protocol.\n |      byteorder\n |        The byte order used to represent the integer.  If byteorder is 'big',\n |        the most significant byte is at the beginning of the byte array.  If\n |        byteorder is 'little', the most significant byte is at the end of the\n |        byte array.  To request the native byte order of the host system, use\n |        `sys.byteorder' as the byte order value.\n |      signed\n |        Indicates whether two's complement is used to represent the integer.\n |  \n |  ----------------------------------------------------------------------\n |  Static methods defined here:\n |  \n |  __new__(*args, **kwargs) from builtins.type\n |      Create and return a new object.  See help(type) for accurate signature.\n |  \n |  ----------------------------------------------------------------------\n |  Data descriptors defined here:\n |  \n |  denominator\n |      the denominator of a rational number in lowest terms\n |  \n |  imag\n |      the imaginary part of a complex number\n |  \n |  numerator\n |      the numerator of a rational number in lowest terms\n |  \n |  real\n |      the real part of a complex number\n\n"
     ]
    }
   ],
   "source": [
    "help(int)"
   ]
  },
  {
   "cell_type": "code",
   "execution_count": 36,
   "metadata": {},
   "outputs": [
    {
     "output_type": "stream",
     "name": "stdout",
     "text": [
      "Help on class str in module builtins:\n\nclass str(object)\n |  str(object='') -> str\n |  str(bytes_or_buffer[, encoding[, errors]]) -> str\n |  \n |  Create a new string object from the given object. If encoding or\n |  errors is specified, then the object must expose a data buffer\n |  that will be decoded using the given encoding and error handler.\n |  Otherwise, returns the result of object.__str__() (if defined)\n |  or repr(object).\n |  encoding defaults to sys.getdefaultencoding().\n |  errors defaults to 'strict'.\n |  \n |  Methods defined here:\n |  \n |  __add__(self, value, /)\n |      Return self+value.\n |  \n |  __contains__(self, key, /)\n |      Return key in self.\n |  \n |  __eq__(self, value, /)\n |      Return self==value.\n |  \n |  __format__(self, format_spec, /)\n |      Return a formatted version of the string as described by format_spec.\n |  \n |  __ge__(self, value, /)\n |      Return self>=value.\n |  \n |  __getattribute__(self, name, /)\n |      Return getattr(self, name).\n |  \n |  __getitem__(self, key, /)\n |      Return self[key].\n |  \n |  __getnewargs__(...)\n |  \n |  __gt__(self, value, /)\n |      Return self>value.\n |  \n |  __hash__(self, /)\n |      Return hash(self).\n |  \n |  __iter__(self, /)\n |      Implement iter(self).\n |  \n |  __le__(self, value, /)\n |      Return self<=value.\n |  \n |  __len__(self, /)\n |      Return len(self).\n |  \n |  __lt__(self, value, /)\n |      Return self<value.\n |  \n |  __mod__(self, value, /)\n |      Return self%value.\n |  \n |  __mul__(self, value, /)\n |      Return self*value.\n |  \n |  __ne__(self, value, /)\n |      Return self!=value.\n |  \n |  __repr__(self, /)\n |      Return repr(self).\n |  \n |  __rmod__(self, value, /)\n |      Return value%self.\n |  \n |  __rmul__(self, value, /)\n |      Return value*self.\n |  \n |  __sizeof__(self, /)\n |      Return the size of the string in memory, in bytes.\n |  \n |  __str__(self, /)\n |      Return str(self).\n |  \n |  capitalize(self, /)\n |      Return a capitalized version of the string.\n |      \n |      More specifically, make the first character have upper case and the rest lower\n |      case.\n |  \n |  casefold(self, /)\n |      Return a version of the string suitable for caseless comparisons.\n |  \n |  center(self, width, fillchar=' ', /)\n |      Return a centered string of length width.\n |      \n |      Padding is done using the specified fill character (default is a space).\n |  \n |  count(...)\n |      S.count(sub[, start[, end]]) -> int\n |      \n |      Return the number of non-overlapping occurrences of substring sub in\n |      string S[start:end].  Optional arguments start and end are\n |      interpreted as in slice notation.\n |  \n |  encode(self, /, encoding='utf-8', errors='strict')\n |      Encode the string using the codec registered for encoding.\n |      \n |      encoding\n |        The encoding in which to encode the string.\n |      errors\n |        The error handling scheme to use for encoding errors.\n |        The default is 'strict' meaning that encoding errors raise a\n |        UnicodeEncodeError.  Other possible values are 'ignore', 'replace' and\n |        'xmlcharrefreplace' as well as any other name registered with\n |        codecs.register_error that can handle UnicodeEncodeErrors.\n |  \n |  endswith(...)\n |      S.endswith(suffix[, start[, end]]) -> bool\n |      \n |      Return True if S ends with the specified suffix, False otherwise.\n |      With optional start, test S beginning at that position.\n |      With optional end, stop comparing S at that position.\n |      suffix can also be a tuple of strings to try.\n |  \n |  expandtabs(self, /, tabsize=8)\n |      Return a copy where all tab characters are expanded using spaces.\n |      \n |      If tabsize is not given, a tab size of 8 characters is assumed.\n |  \n |  find(...)\n |      S.find(sub[, start[, end]]) -> int\n |      \n |      Return the lowest index in S where substring sub is found,\n |      such that sub is contained within S[start:end].  Optional\n |      arguments start and end are interpreted as in slice notation.\n |      \n |      Return -1 on failure.\n |  \n |  format(...)\n |      S.format(*args, **kwargs) -> str\n |      \n |      Return a formatted version of S, using substitutions from args and kwargs.\n |      The substitutions are identified by braces ('{' and '}').\n |  \n |  format_map(...)\n |      S.format_map(mapping) -> str\n |      \n |      Return a formatted version of S, using substitutions from mapping.\n |      The substitutions are identified by braces ('{' and '}').\n |  \n |  index(...)\n |      S.index(sub[, start[, end]]) -> int\n |      \n |      Return the lowest index in S where substring sub is found,\n |      such that sub is contained within S[start:end].  Optional\n |      arguments start and end are interpreted as in slice notation.\n |      \n |      Raises ValueError when the substring is not found.\n |  \n |  isalnum(self, /)\n |      Return True if the string is an alpha-numeric string, False otherwise.\n |      \n |      A string is alpha-numeric if all characters in the string are alpha-numeric and\n |      there is at least one character in the string.\n |  \n |  isalpha(self, /)\n |      Return True if the string is an alphabetic string, False otherwise.\n |      \n |      A string is alphabetic if all characters in the string are alphabetic and there\n |      is at least one character in the string.\n |  \n |  isascii(self, /)\n |      Return True if all characters in the string are ASCII, False otherwise.\n |      \n |      ASCII characters have code points in the range U+0000-U+007F.\n |      Empty string is ASCII too.\n |  \n |  isdecimal(self, /)\n |      Return True if the string is a decimal string, False otherwise.\n |      \n |      A string is a decimal string if all characters in the string are decimal and\n |      there is at least one character in the string.\n |  \n |  isdigit(self, /)\n |      Return True if the string is a digit string, False otherwise.\n |      \n |      A string is a digit string if all characters in the string are digits and there\n |      is at least one character in the string.\n |  \n |  isidentifier(self, /)\n |      Return True if the string is a valid Python identifier, False otherwise.\n |      \n |      Call keyword.iskeyword(s) to test whether string s is a reserved identifier,\n |      such as \"def\" or \"class\".\n |  \n |  islower(self, /)\n |      Return True if the string is a lowercase string, False otherwise.\n |      \n |      A string is lowercase if all cased characters in the string are lowercase and\n |      there is at least one cased character in the string.\n |  \n |  isnumeric(self, /)\n |      Return True if the string is a numeric string, False otherwise.\n |      \n |      A string is numeric if all characters in the string are numeric and there is at\n |      least one character in the string.\n |  \n |  isprintable(self, /)\n |      Return True if the string is printable, False otherwise.\n |      \n |      A string is printable if all of its characters are considered printable in\n |      repr() or if it is empty.\n |  \n |  isspace(self, /)\n |      Return True if the string is a whitespace string, False otherwise.\n |      \n |      A string is whitespace if all characters in the string are whitespace and there\n |      is at least one character in the string.\n |  \n |  istitle(self, /)\n |      Return True if the string is a title-cased string, False otherwise.\n |      \n |      In a title-cased string, upper- and title-case characters may only\n |      follow uncased characters and lowercase characters only cased ones.\n |  \n |  isupper(self, /)\n |      Return True if the string is an uppercase string, False otherwise.\n |      \n |      A string is uppercase if all cased characters in the string are uppercase and\n |      there is at least one cased character in the string.\n |  \n |  join(self, iterable, /)\n |      Concatenate any number of strings.\n |      \n |      The string whose method is called is inserted in between each given string.\n |      The result is returned as a new string.\n |      \n |      Example: '.'.join(['ab', 'pq', 'rs']) -> 'ab.pq.rs'\n |  \n |  ljust(self, width, fillchar=' ', /)\n |      Return a left-justified string of length width.\n |      \n |      Padding is done using the specified fill character (default is a space).\n |  \n |  lower(self, /)\n |      Return a copy of the string converted to lowercase.\n |  \n |  lstrip(self, chars=None, /)\n |      Return a copy of the string with leading whitespace removed.\n |      \n |      If chars is given and not None, remove characters in chars instead.\n |  \n |  partition(self, sep, /)\n |      Partition the string into three parts using the given separator.\n |      \n |      This will search for the separator in the string.  If the separator is found,\n |      returns a 3-tuple containing the part before the separator, the separator\n |      itself, and the part after it.\n |      \n |      If the separator is not found, returns a 3-tuple containing the original string\n |      and two empty strings.\n |  \n |  removeprefix(self, prefix, /)\n |      Return a str with the given prefix string removed if present.\n |      \n |      If the string starts with the prefix string, return string[len(prefix):].\n |      Otherwise, return a copy of the original string.\n |  \n |  removesuffix(self, suffix, /)\n |      Return a str with the given suffix string removed if present.\n |      \n |      If the string ends with the suffix string and that suffix is not empty,\n |      return string[:-len(suffix)]. Otherwise, return a copy of the original\n |      string.\n |  \n |  replace(self, old, new, count=-1, /)\n |      Return a copy with all occurrences of substring old replaced by new.\n |      \n |        count\n |          Maximum number of occurrences to replace.\n |          -1 (the default value) means replace all occurrences.\n |      \n |      If the optional argument count is given, only the first count occurrences are\n |      replaced.\n |  \n |  rfind(...)\n |      S.rfind(sub[, start[, end]]) -> int\n |      \n |      Return the highest index in S where substring sub is found,\n |      such that sub is contained within S[start:end].  Optional\n |      arguments start and end are interpreted as in slice notation.\n |      \n |      Return -1 on failure.\n |  \n |  rindex(...)\n |      S.rindex(sub[, start[, end]]) -> int\n |      \n |      Return the highest index in S where substring sub is found,\n |      such that sub is contained within S[start:end].  Optional\n |      arguments start and end are interpreted as in slice notation.\n |      \n |      Raises ValueError when the substring is not found.\n |  \n |  rjust(self, width, fillchar=' ', /)\n |      Return a right-justified string of length width.\n |      \n |      Padding is done using the specified fill character (default is a space).\n |  \n |  rpartition(self, sep, /)\n |      Partition the string into three parts using the given separator.\n |      \n |      This will search for the separator in the string, starting at the end. If\n |      the separator is found, returns a 3-tuple containing the part before the\n |      separator, the separator itself, and the part after it.\n |      \n |      If the separator is not found, returns a 3-tuple containing two empty strings\n |      and the original string.\n |  \n |  rsplit(self, /, sep=None, maxsplit=-1)\n |      Return a list of the words in the string, using sep as the delimiter string.\n |      \n |        sep\n |          The delimiter according which to split the string.\n |          None (the default value) means split according to any whitespace,\n |          and discard empty strings from the result.\n |        maxsplit\n |          Maximum number of splits to do.\n |          -1 (the default value) means no limit.\n |      \n |      Splits are done starting at the end of the string and working to the front.\n |  \n |  rstrip(self, chars=None, /)\n |      Return a copy of the string with trailing whitespace removed.\n |      \n |      If chars is given and not None, remove characters in chars instead.\n |  \n |  split(self, /, sep=None, maxsplit=-1)\n |      Return a list of the words in the string, using sep as the delimiter string.\n |      \n |      sep\n |        The delimiter according which to split the string.\n |        None (the default value) means split according to any whitespace,\n |        and discard empty strings from the result.\n |      maxsplit\n |        Maximum number of splits to do.\n |        -1 (the default value) means no limit.\n |  \n |  splitlines(self, /, keepends=False)\n |      Return a list of the lines in the string, breaking at line boundaries.\n |      \n |      Line breaks are not included in the resulting list unless keepends is given and\n |      true.\n |  \n |  startswith(...)\n |      S.startswith(prefix[, start[, end]]) -> bool\n |      \n |      Return True if S starts with the specified prefix, False otherwise.\n |      With optional start, test S beginning at that position.\n |      With optional end, stop comparing S at that position.\n |      prefix can also be a tuple of strings to try.\n |  \n |  strip(self, chars=None, /)\n |      Return a copy of the string with leading and trailing whitespace removed.\n |      \n |      If chars is given and not None, remove characters in chars instead.\n |  \n |  swapcase(self, /)\n |      Convert uppercase characters to lowercase and lowercase characters to uppercase.\n |  \n |  title(self, /)\n |      Return a version of the string where each word is titlecased.\n |      \n |      More specifically, words start with uppercased characters and all remaining\n |      cased characters have lower case.\n |  \n |  translate(self, table, /)\n |      Replace each character in the string using the given translation table.\n |      \n |        table\n |          Translation table, which must be a mapping of Unicode ordinals to\n |          Unicode ordinals, strings, or None.\n |      \n |      The table must implement lookup/indexing via __getitem__, for instance a\n |      dictionary or list.  If this operation raises LookupError, the character is\n |      left untouched.  Characters mapped to None are deleted.\n |  \n |  upper(self, /)\n |      Return a copy of the string converted to uppercase.\n |  \n |  zfill(self, width, /)\n |      Pad a numeric string with zeros on the left, to fill a field of the given width.\n |      \n |      The string is never truncated.\n |  \n |  ----------------------------------------------------------------------\n |  Static methods defined here:\n |  \n |  __new__(*args, **kwargs) from builtins.type\n |      Create and return a new object.  See help(type) for accurate signature.\n |  \n |  maketrans(...)\n |      Return a translation table usable for str.translate().\n |      \n |      If there is only one argument, it must be a dictionary mapping Unicode\n |      ordinals (integers) or characters to Unicode ordinals, strings or None.\n |      Character keys will be then converted to ordinals.\n |      If there are two arguments, they must be strings of equal length, and\n |      in the resulting dictionary, each character in x will be mapped to the\n |      character at the same position in y. If there is a third argument, it\n |      must be a string, whose characters will be mapped to None in the result.\n\n"
     ]
    }
   ],
   "source": [
    "help('str')"
   ]
  },
  {
   "cell_type": "code",
   "execution_count": 37,
   "metadata": {},
   "outputs": [
    {
     "output_type": "stream",
     "name": "stdout",
     "text": [
      "Help on built-in module sys:\n\nNAME\n    sys\n\nMODULE REFERENCE\n    https://docs.python.org/3.9/library/sys\n    \n    The following documentation is automatically generated from the Python\n    source files.  It may be incomplete, incorrect or include features that\n    are considered implementation detail and may vary between Python\n    implementations.  When in doubt, consult the module reference at the\n    location listed above.\n\nDESCRIPTION\n    This module provides access to some objects used or maintained by the\n    interpreter and to functions that interact strongly with the interpreter.\n    \n    Dynamic objects:\n    \n    argv -- command line arguments; argv[0] is the script pathname if known\n    path -- module search path; path[0] is the script directory, else ''\n    modules -- dictionary of loaded modules\n    \n    displayhook -- called to show results in an interactive session\n    excepthook -- called to handle any uncaught exception other than SystemExit\n      To customize printing in an interactive session or to install a custom\n      top-level exception handler, assign other functions to replace these.\n    \n    stdin -- standard input file object; used by input()\n    stdout -- standard output file object; used by print()\n    stderr -- standard error object; used for error messages\n      By assigning other file objects (or objects that behave like files)\n      to these, it is possible to redirect all of the interpreter's I/O.\n    \n    last_type -- type of last uncaught exception\n    last_value -- value of last uncaught exception\n    last_traceback -- traceback of last uncaught exception\n      These three are only available in an interactive session after a\n      traceback has been printed.\n    \n    Static objects:\n    \n    builtin_module_names -- tuple of module names built into this interpreter\n    copyright -- copyright notice pertaining to this interpreter\n    exec_prefix -- prefix used to find the machine-specific Python library\n    executable -- absolute path of the executable binary of the Python interpreter\n    float_info -- a named tuple with information about the float implementation.\n    float_repr_style -- string indicating the style of repr() output for floats\n    hash_info -- a named tuple with information about the hash algorithm.\n    hexversion -- version information encoded as a single integer\n    implementation -- Python implementation information.\n    int_info -- a named tuple with information about the int implementation.\n    maxsize -- the largest supported length of containers.\n    maxunicode -- the value of the largest Unicode code point\n    platform -- platform identifier\n    prefix -- prefix used to find the Python library\n    thread_info -- a named tuple with information about the thread implementation.\n    version -- the version of this interpreter as a string\n    version_info -- version information as a named tuple\n    dllhandle -- [Windows only] integer handle of the Python DLL\n    winver -- [Windows only] version number of the Python DLL\n    _enablelegacywindowsfsencoding -- [Windows only]\n    __stdin__ -- the original stdin; don't touch!\n    __stdout__ -- the original stdout; don't touch!\n    __stderr__ -- the original stderr; don't touch!\n    __displayhook__ -- the original displayhook; don't touch!\n    __excepthook__ -- the original excepthook; don't touch!\n    \n    Functions:\n    \n    displayhook() -- print an object to the screen, and save it in builtins._\n    excepthook() -- print an exception and its traceback to sys.stderr\n    exc_info() -- return thread-safe information about the current exception\n    exit() -- exit the interpreter by raising SystemExit\n    getdlopenflags() -- returns flags to be used for dlopen() calls\n    getprofile() -- get the global profiling function\n    getrefcount() -- return the reference count for an object (plus one :-)\n    getrecursionlimit() -- return the max recursion depth for the interpreter\n    getsizeof() -- return the size of an object in bytes\n    gettrace() -- get the global debug tracing function\n    setdlopenflags() -- set the flags to be used for dlopen() calls\n    setprofile() -- set the global profiling function\n    setrecursionlimit() -- set the max recursion depth for the interpreter\n    settrace() -- set the global debug tracing function\n\nFUNCTIONS\n    __breakpointhook__ = breakpointhook(...)\n        breakpointhook(*args, **kws)\n        \n        This hook function is called by built-in breakpoint().\n    \n    __displayhook__ = displayhook(object, /)\n        Print an object to sys.stdout and also save it in builtins._\n    \n    __excepthook__ = excepthook(exctype, value, traceback, /)\n        Handle an exception by displaying it with a traceback on sys.stderr.\n    \n    __unraisablehook__ = unraisablehook(unraisable, /)\n        Handle an unraisable exception.\n        \n        The unraisable argument has the following attributes:\n        \n        * exc_type: Exception type.\n        * exc_value: Exception value, can be None.\n        * exc_traceback: Exception traceback, can be None.\n        * err_msg: Error message, can be None.\n        * object: Object causing the exception, can be None.\n    \n    addaudithook(hook)\n        Adds a new audit hook callback.\n    \n    audit(...)\n        audit(event, *args)\n        \n        Passes the event to any audit hooks that are attached.\n    \n    breakpointhook(...)\n        breakpointhook(*args, **kws)\n        \n        This hook function is called by built-in breakpoint().\n    \n    call_tracing(func, args, /)\n        Call func(*args), while tracing is enabled.\n        \n        The tracing state is saved, and restored afterwards.  This is intended\n        to be called from a debugger from a checkpoint, to recursively debug\n        some other code.\n    \n    exc_info()\n        Return current exception information: (type, value, traceback).\n        \n        Return information about the most recent exception caught by an except\n        clause in the current stack frame or in an older stack frame.\n    \n    exit(status=None, /)\n        Exit the interpreter by raising SystemExit(status).\n        \n        If the status is omitted or None, it defaults to zero (i.e., success).\n        If the status is an integer, it will be used as the system exit status.\n        If it is another kind of object, it will be printed and the system\n        exit status will be one (i.e., failure).\n    \n    get_asyncgen_hooks()\n        Return the installed asynchronous generators hooks.\n        \n        This returns a namedtuple of the form (firstiter, finalizer).\n    \n    get_coroutine_origin_tracking_depth()\n        Check status of origin tracking for coroutine objects in this thread.\n    \n    getallocatedblocks()\n        Return the number of memory blocks currently allocated.\n    \n    getdefaultencoding()\n        Return the current default encoding used by the Unicode implementation.\n    \n    getfilesystemencodeerrors()\n        Return the error mode used Unicode to OS filename conversion.\n    \n    getfilesystemencoding()\n        Return the encoding used to convert Unicode filenames to OS filenames.\n    \n    getprofile()\n        Return the profiling function set with sys.setprofile.\n        \n        See the profiler chapter in the library manual.\n    \n    getrecursionlimit()\n        Return the current value of the recursion limit.\n        \n        The recursion limit is the maximum depth of the Python interpreter\n        stack.  This limit prevents infinite recursion from causing an overflow\n        of the C stack and crashing Python.\n    \n    getrefcount(object, /)\n        Return the reference count of object.\n        \n        The count returned is generally one higher than you might expect,\n        because it includes the (temporary) reference as an argument to\n        getrefcount().\n    \n    getsizeof(...)\n        getsizeof(object [, default]) -> int\n        \n        Return the size of object in bytes.\n    \n    getswitchinterval()\n        Return the current thread switch interval; see sys.setswitchinterval().\n    \n    gettrace()\n        Return the global debug tracing function set with sys.settrace.\n        \n        See the debugger chapter in the library manual.\n    \n    getwindowsversion()\n        Return info about the running version of Windows as a named tuple.\n        \n        The members are named: major, minor, build, platform, service_pack,\n        service_pack_major, service_pack_minor, suite_mask, product_type and\n        platform_version. For backward compatibility, only the first 5 items\n        are available by indexing. All elements are numbers, except\n        service_pack and platform_type which are strings, and platform_version\n        which is a 3-tuple. Platform is always 2. Product_type may be 1 for a\n        workstation, 2 for a domain controller, 3 for a server.\n        Platform_version is a 3-tuple containing a version number that is\n        intended for identifying the OS rather than feature detection.\n    \n    intern(string, /)\n        ``Intern'' the given string.\n        \n        This enters the string in the (global) table of interned strings whose\n        purpose is to speed up dictionary lookups. Return the string itself or\n        the previously interned string object with the same value.\n    \n    is_finalizing()\n        Return True if Python is exiting.\n    \n    set_asyncgen_hooks(...)\n        set_asyncgen_hooks(* [, firstiter] [, finalizer])\n        \n        Set a finalizer for async generators objects.\n    \n    set_coroutine_origin_tracking_depth(depth)\n        Enable or disable origin tracking for coroutine objects in this thread.\n        \n        Coroutine objects will track 'depth' frames of traceback information\n        about where they came from, available in their cr_origin attribute.\n        \n        Set a depth of 0 to disable.\n    \n    setprofile(...)\n        setprofile(function)\n        \n        Set the profiling function.  It will be called on each function call\n        and return.  See the profiler chapter in the library manual.\n    \n    setrecursionlimit(limit, /)\n        Set the maximum depth of the Python interpreter stack to n.\n        \n        This limit prevents infinite recursion from causing an overflow of the C\n        stack and crashing Python.  The highest possible limit is platform-\n        dependent.\n    \n    setswitchinterval(interval, /)\n        Set the ideal thread switching delay inside the Python interpreter.\n        \n        The actual frequency of switching threads can be lower if the\n        interpreter executes long sequences of uninterruptible code\n        (this is implementation-specific and workload-dependent).\n        \n        The parameter must represent the desired switching delay in seconds\n        A typical value is 0.005 (5 milliseconds).\n    \n    settrace(...)\n        settrace(function)\n        \n        Set the global debug tracing function.  It will be called on each\n        function call.  See the debugger chapter in the library manual.\n    \n    unraisablehook(unraisable, /)\n        Handle an unraisable exception.\n        \n        The unraisable argument has the following attributes:\n        \n        * exc_type: Exception type.\n        * exc_value: Exception value, can be None.\n        * exc_traceback: Exception traceback, can be None.\n        * err_msg: Error message, can be None.\n        * object: Object causing the exception, can be None.\n\nDATA\n    __stderr__ = <_io.TextIOWrapper name='<stderr>' mode='w' encoding='utf...\n    __stdin__ = <_io.TextIOWrapper name='<stdin>' mode='r' encoding='utf-8...\n    __stdout__ = <_io.TextIOWrapper name='<stdout>' mode='w' encoding='utf...\n    api_version = 1013\n    argv = ['ipykernel_launcher', '--ip=127.0.0.1', '--stdin=9013', '--con...\n    base_exec_prefix = r'C:\\Users\\lvzhi\\AppData\\Local\\Programs\\Python\\Pyth...\n    base_prefix = r'C:\\Users\\lvzhi\\AppData\\Local\\Programs\\Python\\Python39'\n    builtin_module_names = ('_abc', '_ast', '_bisect', '_blake2', '_codecs...\n    byteorder = 'little'\n    copyright = 'Copyright (c) 2001-2021 Python Software Foundati...ematis...\n    displayhook = <ipykernel.displayhook.ZMQShellDisplayHook object>\n    dllhandle = 140734514462720\n    dont_write_bytecode = False\n    exec_prefix = r'C:\\Users\\lvzhi\\AppData\\Local\\Programs\\Python\\Python39'\n    executable = r'C:\\Users\\lvzhi\\AppData\\Local\\Programs\\Python\\Python39\\p...\n    flags = sys.flags(debug=0, inspect=0, interactive=0, opt...ation=1, is...\n    float_info = sys.float_info(max=1.7976931348623157e+308, max_...epsilo...\n    float_repr_style = 'short'\n    hash_info = sys.hash_info(width=64, modulus=2305843009213693...iphash2...\n    hexversion = 50922736\n    implementation = namespace(name='cpython', cache_tag='cpython-39'...as...\n    int_info = sys.int_info(bits_per_digit=30, sizeof_digit=4)\n    last_value = TypeError(\"unsupported operand type(s) for +: 'int' and '...\n    maxsize = 9223372036854775807\n    maxunicode = 1114111\n    meta_path = [<class '_frozen_importlib.BuiltinImporter'>, <class '_fro...\n    modules = {'IPython': <module 'IPython' from 'C:\\\\Users\\\\lvzhi\\\\AppDat...\n    path = [r'd:\\Visual Studio Code\\Visual-Studio-Code-Python\\Python Compu...\n    path_hooks = [<class 'zipimport.zipimporter'>, <function FileFinder.pa...\n    path_importer_cache = {r'C:\\Users\\lvzhi\\.ipython': FileFinder('C:\\\\Use...\n    platform = 'win32'\n    platlibdir = 'lib'\n    prefix = r'C:\\Users\\lvzhi\\AppData\\Local\\Programs\\Python\\Python39'\n    ps1 = 'In : '\n    ps2 = '...: '\n    ps3 = 'Out: '\n    pycache_prefix = None\n    stderr = <ipykernel.iostream.OutStream object>\n    stdin = <_io.TextIOWrapper name='<stdin>' mode='r' encoding='utf-8'>\n    stdout = <ipykernel.iostream.OutStream object>\n    thread_info = sys.thread_info(name='nt', lock=None, version=None)\n    version = '3.9.4 (tags/v3.9.4:1f2e308, Apr  6 2021, 13:40:21) [MSC v.1...\n    version_info = sys.version_info(major=3, minor=9, micro=4, releaseleve...\n    warnoptions = []\n    winver = '3.9'\n\nFILE\n    (built-in)\n\n\n"
     ]
    }
   ],
   "source": [
    "help(sys)"
   ]
  },
  {
   "cell_type": "code",
   "execution_count": 39,
   "metadata": {},
   "outputs": [
    {
     "output_type": "stream",
     "name": "stdout",
     "text": [
      "Help on built-in function round in module builtins:\n\nround(number, ndigits=None)\n    Round a number to a given precision in decimal digits.\n    \n    The return value is an integer if ndigits is omitted or None.  Otherwise\n    the return value has the same type as the number.  ndigits may be negative.\n\n"
     ]
    }
   ],
   "source": [
    "help(round)"
   ]
  },
  {
   "cell_type": "code",
   "execution_count": 40,
   "metadata": {},
   "outputs": [
    {
     "output_type": "execute_result",
     "data": {
      "text/plain": [
       "65"
      ]
     },
     "metadata": {},
     "execution_count": 40
    }
   ],
   "source": [
    "ord(\"A\")"
   ]
  },
  {
   "cell_type": "code",
   "execution_count": 41,
   "metadata": {},
   "outputs": [
    {
     "output_type": "execute_result",
     "data": {
      "text/plain": [
       "'65'"
      ]
     },
     "metadata": {},
     "execution_count": 41
    }
   ],
   "source": [
    "str(65)"
   ]
  },
  {
   "cell_type": "code",
   "execution_count": 42,
   "metadata": {},
   "outputs": [
    {
     "output_type": "execute_result",
     "data": {
      "text/plain": [
       "'A'"
      ]
     },
     "metadata": {},
     "execution_count": 42
    }
   ],
   "source": [
    "str(\"A\")"
   ]
  },
  {
   "cell_type": "code",
   "execution_count": 43,
   "metadata": {},
   "outputs": [
    {
     "output_type": "error",
     "ename": "NameError",
     "evalue": "name 'A' is not defined",
     "traceback": [
      "\u001b[1;31m---------------------------------------------------------------------------\u001b[0m",
      "\u001b[1;31mNameError\u001b[0m                                 Traceback (most recent call last)",
      "\u001b[1;32m<ipython-input-43-88d140c71a5c>\u001b[0m in \u001b[0;36m<module>\u001b[1;34m\u001b[0m\n\u001b[1;32m----> 1\u001b[1;33m \u001b[0mstr\u001b[0m\u001b[1;33m(\u001b[0m\u001b[0mA\u001b[0m\u001b[1;33m)\u001b[0m\u001b[1;33m\u001b[0m\u001b[1;33m\u001b[0m\u001b[0m\n\u001b[0m",
      "\u001b[1;31mNameError\u001b[0m: name 'A' is not defined"
     ]
    }
   ],
   "source": [
    "str(A)"
   ]
  },
  {
   "cell_type": "code",
   "execution_count": 44,
   "metadata": {},
   "outputs": [
    {
     "output_type": "execute_result",
     "data": {
      "text/plain": [
       "['__doc__',\n",
       " '__loader__',\n",
       " '__name__',\n",
       " '__package__',\n",
       " '__spec__',\n",
       " 'acos',\n",
       " 'acosh',\n",
       " 'asin',\n",
       " 'asinh',\n",
       " 'atan',\n",
       " 'atan2',\n",
       " 'atanh',\n",
       " 'ceil',\n",
       " 'comb',\n",
       " 'copysign',\n",
       " 'cos',\n",
       " 'cosh',\n",
       " 'degrees',\n",
       " 'dist',\n",
       " 'e',\n",
       " 'erf',\n",
       " 'erfc',\n",
       " 'exp',\n",
       " 'expm1',\n",
       " 'fabs',\n",
       " 'factorial',\n",
       " 'floor',\n",
       " 'fmod',\n",
       " 'frexp',\n",
       " 'fsum',\n",
       " 'gamma',\n",
       " 'gcd',\n",
       " 'hypot',\n",
       " 'inf',\n",
       " 'isclose',\n",
       " 'isfinite',\n",
       " 'isinf',\n",
       " 'isnan',\n",
       " 'isqrt',\n",
       " 'lcm',\n",
       " 'ldexp',\n",
       " 'lgamma',\n",
       " 'log',\n",
       " 'log10',\n",
       " 'log1p',\n",
       " 'log2',\n",
       " 'modf',\n",
       " 'nan',\n",
       " 'nextafter',\n",
       " 'perm',\n",
       " 'pi',\n",
       " 'pow',\n",
       " 'prod',\n",
       " 'radians',\n",
       " 'remainder',\n",
       " 'sin',\n",
       " 'sinh',\n",
       " 'sqrt',\n",
       " 'tan',\n",
       " 'tanh',\n",
       " 'tau',\n",
       " 'trunc',\n",
       " 'ulp']"
      ]
     },
     "metadata": {},
     "execution_count": 44
    }
   ],
   "source": [
    "import math\n",
    "dir(math)"
   ]
  },
  {
   "cell_type": "code",
   "execution_count": 45,
   "metadata": {},
   "outputs": [
    {
     "output_type": "execute_result",
     "data": {
      "text/plain": [
       "86"
      ]
     },
     "metadata": {},
     "execution_count": 45
    }
   ],
   "source": [
    "import random\n",
    "a=[random.randint(1,100) for i in range(10)]\n",
    "max(a)"
   ]
  },
  {
   "cell_type": "code",
   "execution_count": 46,
   "metadata": {},
   "outputs": [
    {
     "output_type": "execute_result",
     "data": {
      "text/plain": [
       "13"
      ]
     },
     "metadata": {},
     "execution_count": 46
    }
   ],
   "source": [
    "min(a)"
   ]
  },
  {
   "cell_type": "code",
   "execution_count": 47,
   "metadata": {},
   "outputs": [
    {
     "output_type": "execute_result",
     "data": {
      "text/plain": [
       "52.2"
      ]
     },
     "metadata": {},
     "execution_count": 47
    }
   ],
   "source": [
    "sum(a)/10"
   ]
  },
  {
   "cell_type": "code",
   "execution_count": null,
   "metadata": {},
   "outputs": [],
   "source": []
  }
 ]
}